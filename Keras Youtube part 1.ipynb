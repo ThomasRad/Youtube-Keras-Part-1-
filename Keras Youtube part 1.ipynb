{
 "cells": [
  {
   "cell_type": "markdown",
   "metadata": {},
   "source": [
    "## Following along a youtube tutorial here. "
   ]
  },
  {
   "cell_type": "markdown",
   "metadata": {},
   "source": [
    "### Create and scale the Data first"
   ]
  },
  {
   "cell_type": "code",
   "execution_count": 2,
   "metadata": {},
   "outputs": [],
   "source": [
    "# Import the packages we need to build our sample dataset. \n",
    "\n",
    "import numpy as np\n",
    "from random import randint\n",
    "from sklearn.utils import shuffle\n",
    "from sklearn.preprocessing import MinMaxScaler"
   ]
  },
  {
   "cell_type": "code",
   "execution_count": 3,
   "metadata": {},
   "outputs": [],
   "source": [
    "# Create our holders. \n",
    "\n",
    "train_labels = []\n",
    "train_samples = []"
   ]
  },
  {
   "cell_type": "code",
   "execution_count": 4,
   "metadata": {},
   "outputs": [],
   "source": [
    "# Create a simple dataset.Hypothetical drug research study. \n",
    "\n",
    "for i in range(50):\n",
    "    # People who experience side effects. \n",
    "    random_younger = randint(13,64)\n",
    "    train_samples.append(random_younger)\n",
    "    train_labels.append(1)\n",
    "    \n",
    "    # People who didn't feel the side effects. \n",
    "    random_older = randint(65,100)\n",
    "    train_samples.append(random_older)\n",
    "    train_labels.append(0)\n",
    "    \n",
    "\n",
    "for i in range(1000):\n",
    "    # The younger people who didn't feel side effects.\n",
    "    random_younger = randint(13,64)\n",
    "    train_samples.append(random_younger)\n",
    "    train_labels.append(0)\n",
    "    \n",
    "    random_older = randint(65,100)\n",
    "    train_samples.append(random_older)\n",
    "    train_labels.append(1)"
   ]
  },
  {
   "cell_type": "code",
   "execution_count": 5,
   "metadata": {},
   "outputs": [],
   "source": [
    "# Convert our data into a numpy array. \n",
    "\n",
    "train_labels = np.array(train_labels)\n",
    "train_samples = np.array(train_samples)\n",
    "\n",
    "# Shuffle things around \n",
    "\n",
    "train_labels, train_samples = shuffle(train_labels,train_samples)"
   ]
  },
  {
   "cell_type": "code",
   "execution_count": 6,
   "metadata": {},
   "outputs": [],
   "source": [
    "# Let us now rescale things. \n",
    "\n",
    "scaler = MinMaxScaler(feature_range=(0,1))\n",
    "scaled_train_samples = scaler.fit_transform(train_samples.reshape(-1,1))"
   ]
  },
  {
   "cell_type": "markdown",
   "metadata": {},
   "source": [
    "### Now we create the model"
   ]
  },
  {
   "cell_type": "code",
   "execution_count": 12,
   "metadata": {},
   "outputs": [],
   "source": [
    "# Import packages first. \n",
    "\n",
    "import tensorflow as tf\n",
    "from tensorflow import keras\n",
    "from tensorflow.keras.models import Sequential\n",
    "from tensorflow.keras.layers import Activation, Dense\n",
    "from tensorflow.keras.optimizers import Adam\n",
    "from tensorflow.keras.metrics import categorical_crossentropy"
   ]
  },
  {
   "cell_type": "code",
   "execution_count": 13,
   "metadata": {},
   "outputs": [],
   "source": [
    "# We create our model here. \n",
    "\n",
    "model = Sequential([\n",
    "    Dense(units=16, input_shape =(1,), activation= 'relu'),\n",
    "    Dense(units=32, activation= 'relu'),\n",
    "    Dense(units=2,  activation= 'softmax') \n",
    "])"
   ]
  },
  {
   "cell_type": "code",
   "execution_count": 9,
   "metadata": {},
   "outputs": [
    {
     "name": "stdout",
     "output_type": "stream",
     "text": [
      "Model: \"sequential\"\n",
      "_________________________________________________________________\n",
      "Layer (type)                 Output Shape              Param #   \n",
      "=================================================================\n",
      "dense (Dense)                (None, 16)                32        \n",
      "_________________________________________________________________\n",
      "dense_1 (Dense)              (None, 32)                544       \n",
      "_________________________________________________________________\n",
      "dense_2 (Dense)              (None, 2)                 66        \n",
      "=================================================================\n",
      "Total params: 642\n",
      "Trainable params: 642\n",
      "Non-trainable params: 0\n",
      "_________________________________________________________________\n"
     ]
    }
   ],
   "source": [
    "# Get a summary of the model \n",
    "\n",
    "model.summary()"
   ]
  },
  {
   "cell_type": "code",
   "execution_count": 10,
   "metadata": {},
   "outputs": [],
   "source": [
    "# Compile the model. \n",
    "\n",
    "model.compile(optimizer=Adam(learning_rate=0.0001), loss = 'sparse_categorical_crossentropy', metrics = ['accuracy'])"
   ]
  },
  {
   "cell_type": "code",
   "execution_count": 11,
   "metadata": {},
   "outputs": [
    {
     "name": "stdout",
     "output_type": "stream",
     "text": [
      "Train on 1890 samples, validate on 210 samples\n",
      "Epoch 1/30\n",
      "1890/1890 - 0s - loss: 0.6798 - acc: 0.5339 - val_loss: 0.6726 - val_acc: 0.5476\n",
      "Epoch 2/30\n",
      "1890/1890 - 0s - loss: 0.6606 - acc: 0.6312 - val_loss: 0.6503 - val_acc: 0.6619\n",
      "Epoch 3/30\n",
      "1890/1890 - 0s - loss: 0.6383 - acc: 0.6873 - val_loss: 0.6279 - val_acc: 0.6905\n",
      "Epoch 4/30\n",
      "1890/1890 - 0s - loss: 0.6151 - acc: 0.7138 - val_loss: 0.6031 - val_acc: 0.7333\n",
      "Epoch 5/30\n",
      "1890/1890 - 0s - loss: 0.5900 - acc: 0.7354 - val_loss: 0.5759 - val_acc: 0.7619\n",
      "Epoch 6/30\n",
      "1890/1890 - 0s - loss: 0.5635 - acc: 0.7714 - val_loss: 0.5477 - val_acc: 0.7714\n",
      "Epoch 7/30\n",
      "1890/1890 - 0s - loss: 0.5365 - acc: 0.7884 - val_loss: 0.5185 - val_acc: 0.8190\n",
      "Epoch 8/30\n",
      "1890/1890 - 0s - loss: 0.5098 - acc: 0.8164 - val_loss: 0.4898 - val_acc: 0.8286\n",
      "Epoch 9/30\n",
      "1890/1890 - 0s - loss: 0.4837 - acc: 0.8302 - val_loss: 0.4621 - val_acc: 0.8619\n",
      "Epoch 10/30\n",
      "1890/1890 - 0s - loss: 0.4589 - acc: 0.8444 - val_loss: 0.4357 - val_acc: 0.8667\n",
      "Epoch 11/30\n",
      "1890/1890 - 0s - loss: 0.4357 - acc: 0.8577 - val_loss: 0.4119 - val_acc: 0.8762\n",
      "Epoch 12/30\n",
      "1890/1890 - 0s - loss: 0.4146 - acc: 0.8698 - val_loss: 0.3899 - val_acc: 0.8857\n",
      "Epoch 13/30\n",
      "1890/1890 - 0s - loss: 0.3955 - acc: 0.8794 - val_loss: 0.3699 - val_acc: 0.8857\n",
      "Epoch 14/30\n",
      "1890/1890 - 0s - loss: 0.3783 - acc: 0.8868 - val_loss: 0.3522 - val_acc: 0.8952\n",
      "Epoch 15/30\n",
      "1890/1890 - 0s - loss: 0.3630 - acc: 0.8921 - val_loss: 0.3365 - val_acc: 0.9000\n",
      "Epoch 16/30\n",
      "1890/1890 - 0s - loss: 0.3497 - acc: 0.8995 - val_loss: 0.3222 - val_acc: 0.9000\n",
      "Epoch 17/30\n",
      "1890/1890 - 0s - loss: 0.3377 - acc: 0.9085 - val_loss: 0.3098 - val_acc: 0.9000\n",
      "Epoch 18/30\n",
      "1890/1890 - 0s - loss: 0.3280 - acc: 0.9058 - val_loss: 0.2990 - val_acc: 0.9238\n",
      "Epoch 19/30\n",
      "1890/1890 - 0s - loss: 0.3185 - acc: 0.9085 - val_loss: 0.2905 - val_acc: 0.9429\n",
      "Epoch 20/30\n",
      "1890/1890 - 0s - loss: 0.3109 - acc: 0.9196 - val_loss: 0.2818 - val_acc: 0.9238\n",
      "Epoch 21/30\n",
      "1890/1890 - 0s - loss: 0.3043 - acc: 0.9153 - val_loss: 0.2749 - val_acc: 0.9429\n",
      "Epoch 22/30\n",
      "1890/1890 - 0s - loss: 0.2986 - acc: 0.9190 - val_loss: 0.2694 - val_acc: 0.9524\n",
      "Epoch 23/30\n",
      "1890/1890 - 0s - loss: 0.2934 - acc: 0.9280 - val_loss: 0.2633 - val_acc: 0.9429\n",
      "Epoch 24/30\n",
      "1890/1890 - 0s - loss: 0.2894 - acc: 0.9249 - val_loss: 0.2585 - val_acc: 0.9429\n",
      "Epoch 25/30\n",
      "1890/1890 - 0s - loss: 0.2856 - acc: 0.9286 - val_loss: 0.2543 - val_acc: 0.9524\n",
      "Epoch 26/30\n",
      "1890/1890 - 0s - loss: 0.2826 - acc: 0.9317 - val_loss: 0.2509 - val_acc: 0.9524\n",
      "Epoch 27/30\n",
      "1890/1890 - 0s - loss: 0.2797 - acc: 0.9312 - val_loss: 0.2478 - val_acc: 0.9524\n",
      "Epoch 28/30\n",
      "1890/1890 - 0s - loss: 0.2773 - acc: 0.9339 - val_loss: 0.2448 - val_acc: 0.9524\n",
      "Epoch 29/30\n",
      "1890/1890 - 0s - loss: 0.2752 - acc: 0.9328 - val_loss: 0.2428 - val_acc: 0.9524\n",
      "Epoch 30/30\n",
      "1890/1890 - 0s - loss: 0.2735 - acc: 0.9370 - val_loss: 0.2412 - val_acc: 0.9619\n"
     ]
    },
    {
     "data": {
      "text/plain": [
       "<tensorflow.python.keras.callbacks.History at 0x1782d11dec8>"
      ]
     },
     "execution_count": 11,
     "metadata": {},
     "output_type": "execute_result"
    }
   ],
   "source": [
    "# Fit the model on the data we created eariler. \n",
    "\n",
    "model.fit(x = scaled_train_samples, y = train_labels, validation_split=0.1, batch_size = 10, epochs = 30 , shuffle = True, verbose = 2)"
   ]
  },
  {
   "cell_type": "code",
   "execution_count": 14,
   "metadata": {},
   "outputs": [],
   "source": [
    "# Create a test set. \n",
    "\n",
    "test_labels = []\n",
    "test_samples = []"
   ]
  },
  {
   "cell_type": "code",
   "execution_count": 15,
   "metadata": {},
   "outputs": [],
   "source": [
    "# Create a simple dataset.Hypothetical drug research study. \n",
    "\n",
    "for i in range(50):\n",
    "    # People who experience side effects. \n",
    "    random_younger = randint(13,64)\n",
    "    test_samples.append(random_younger)\n",
    "    test_labels.append(1)\n",
    "    \n",
    "    # People who didn't feel the side effects. \n",
    "    random_older = randint(65,100)\n",
    "    test_samples.append(random_older)\n",
    "    test_labels.append(0)\n",
    "    \n",
    "\n",
    "for i in range(1000):\n",
    "    # The younger people who didn't feel side effects.\n",
    "    random_younger = randint(13,64)\n",
    "    test_samples.append(random_younger)\n",
    "    test_labels.append(0)\n",
    "    \n",
    "    random_older = randint(65,100)\n",
    "    test_samples.append(random_older)\n",
    "    test_labels.append(1)"
   ]
  },
  {
   "cell_type": "code",
   "execution_count": 16,
   "metadata": {},
   "outputs": [],
   "source": [
    "# Convert our data into a numpy array. \n",
    "\n",
    "test_labels = np.array(train_labels)\n",
    "test_samples = np.array(train_samples)\n",
    "\n",
    "# Shuffle things around \n",
    "\n",
    "test_labels, test_samples = shuffle(test_labels,test_samples)"
   ]
  },
  {
   "cell_type": "code",
   "execution_count": 17,
   "metadata": {},
   "outputs": [],
   "source": [
    "# Let us now rescale things. \n",
    "\n",
    "scaler = MinMaxScaler(feature_range=(0,1))\n",
    "scaled_test_samples = scaler.fit_transform(test_samples.reshape(-1,1))"
   ]
  },
  {
   "cell_type": "markdown",
   "metadata": {},
   "source": [
    "### Here we make preditions on the test dataset. "
   ]
  },
  {
   "cell_type": "code",
   "execution_count": 19,
   "metadata": {},
   "outputs": [],
   "source": [
    "# Predictions of the model. \n",
    "\n",
    "predictions = model.predict(x = scaled_test_samples, batch_size=10, verbose=0)"
   ]
  },
  {
   "cell_type": "code",
   "execution_count": 20,
   "metadata": {},
   "outputs": [],
   "source": [
    "# We will round the predictions, make it easier to look at. \n",
    "\n",
    "rounded_predictions = np.argmax(predictions, axis = -1)"
   ]
  }
 ],
 "metadata": {
  "kernelspec": {
   "display_name": "Python 3",
   "language": "python",
   "name": "python3"
  },
  "language_info": {
   "codemirror_mode": {
    "name": "ipython",
    "version": 3
   },
   "file_extension": ".py",
   "mimetype": "text/x-python",
   "name": "python",
   "nbconvert_exporter": "python",
   "pygments_lexer": "ipython3",
   "version": "3.7.6"
  }
 },
 "nbformat": 4,
 "nbformat_minor": 4
}
